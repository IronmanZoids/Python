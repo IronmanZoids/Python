{
  "nbformat": 4,
  "nbformat_minor": 0,
  "metadata": {
    "colab": {
      "provenance": [],
      "authorship_tag": "ABX9TyOe/6wVzZfB0NChz0ACej+w",
      "include_colab_link": true
    },
    "kernelspec": {
      "name": "python3",
      "display_name": "Python 3"
    },
    "language_info": {
      "name": "python"
    }
  },
  "cells": [
    {
      "cell_type": "markdown",
      "metadata": {
        "id": "view-in-github",
        "colab_type": "text"
      },
      "source": [
        "<a href=\"https://colab.research.google.com/github/escuelaDeCodigoMargaritaMaza/Python/blob/main/CuadernoTrabajo.ipynb\" target=\"_parent\"><img src=\"https://colab.research.google.com/assets/colab-badge.svg\" alt=\"Open In Colab\"/></a>"
      ]
    },
    {
      "cell_type": "markdown",
      "source": [
        "https://docs.python.org/3/library/functions.html."
      ],
      "metadata": {
        "id": "9h5Y0Bo9F8N4"
      }
    },
    {
      "cell_type": "code",
      "execution_count": null,
      "metadata": {
        "id": "UqWdpqhEFOEa"
      },
      "outputs": [],
      "source": [
        "print(\"Ingresa un valor: \")\n",
        "a = int(input())\n",
        "\n",
        "print(\"Ingresa un valor: \")\n",
        "b = int(input())\n",
        "\n",
        "print(\"Ingresa un valor: \")\n",
        "c = int(input())"
      ]
    },
    {
      "cell_type": "code",
      "source": [
        "def mensaje():\n",
        "    print(\"Ingresar valor: \")\n",
        "\n",
        "mensaje()"
      ],
      "metadata": {
        "id": "lQjpdERMFzci"
      },
      "execution_count": null,
      "outputs": []
    },
    {
      "cell_type": "code",
      "source": [
        "def mensaje():\n",
        "    print(\"Ingresar valor: \")\n",
        " \n",
        "mensaje()\n",
        "a = int(input())\n",
        "mensaje()\n",
        "b = int(input())\n",
        "mensaje()\n",
        "c = int(input())"
      ],
      "metadata": {
        "id": "kQZ_c7gGF1nh"
      },
      "execution_count": null,
      "outputs": []
    },
    {
      "cell_type": "code",
      "source": [
        "def mensaje(): \n",
        "    print(\"Hello\") \n",
        " \n",
        "mensaje() "
      ],
      "metadata": {
        "id": "X58Rv05hGC2W"
      },
      "execution_count": null,
      "outputs": []
    },
    {
      "cell_type": "code",
      "source": [
        "def hello(name): \n",
        "    print(\"Hello,\", name) \n",
        " \n",
        " \n",
        "name = input(\"Ingresa tu nombre: \")\n",
        " \n",
        "hello(name) "
      ],
      "metadata": {
        "id": "GWf8IAnrGLJe"
      },
      "execution_count": null,
      "outputs": []
    },
    {
      "cell_type": "code",
      "source": [
        "def mensaje(numero):\n",
        "    print(\"Ingresa un número:\", numero)\n",
        "\n",
        "mensaje()"
      ],
      "metadata": {
        "id": "8vLBsb7pGbX9"
      },
      "execution_count": null,
      "outputs": []
    },
    {
      "cell_type": "code",
      "source": [
        "def message(number):   #parametro\n",
        "    print(\"Ingresa un número:\", number)\n",
        " \n",
        "message(1) #argumento"
      ],
      "metadata": {
        "id": "vK7EuzOtGknI"
      },
      "execution_count": null,
      "outputs": []
    },
    {
      "cell_type": "code",
      "source": [
        "def nombres(primer_nombre, apellido):\n",
        "    print(\"Hola, mi nombre es\", primer_nombre, apellido)\n",
        " \n",
        "nombres(\"Juan\", \"Pérez\")\n",
        "nombres(\"Miguel\", \"Gónzaez\")\n",
        "nombres(\"Clara\", \"López\")"
      ],
      "metadata": {
        "id": "3OarbfaQGucg"
      },
      "execution_count": null,
      "outputs": []
    },
    {
      "cell_type": "code",
      "source": [
        "def nombres(primer_nombre, apellido):\n",
        "    print(\"Hola, mi nombre es\", primer_nombre, apellido)\n",
        " \n",
        "nombres(primer_nombre = \"Juan\", apellido = \"Pérez\")\n",
        "nombres(apellido = \"Silvia\", primer_nombre = \"López\")"
      ],
      "metadata": {
        "id": "-nDZdt9CHDip"
      },
      "execution_count": null,
      "outputs": []
    },
    {
      "cell_type": "code",
      "source": [
        "def una_funcion():\n",
        "  a=5*8\n",
        "  b=10.3+6\n",
        "  return 123\n",
        " \n",
        "una_funcion()"
      ],
      "metadata": {
        "colab": {
          "base_uri": "https://localhost:8080/"
        },
        "id": "fVpmiHFTHTJk",
        "outputId": "b0d4de76-b84a-47b7-ab5f-a54bb20187d7"
      },
      "execution_count": null,
      "outputs": [
        {
          "output_type": "execute_result",
          "data": {
            "text/plain": [
              "163"
            ]
          },
          "metadata": {},
          "execution_count": 11
        }
      ]
    },
    {
      "cell_type": "code",
      "source": [
        "def extraña_funcion(n):\n",
        "    if(n % 2 == 0):\n",
        "        return True\n",
        "\n",
        "print(extraña_funcion(2))\n",
        "print(extraña_funcion(1))"
      ],
      "metadata": {
        "id": "IsFaRAz6H0Hz"
      },
      "execution_count": null,
      "outputs": []
    },
    {
      "cell_type": "code",
      "source": [
        "def menu():\n",
        "    print(\"App de operaciones.\")\n",
        "    print(\"1. Suma\")\n",
        "    print(\"2. Resta\")\n",
        "    print(\"3. Multiplicacion\")\n",
        "    print(\"4. Division\")\n",
        "    print(\"5. Salir\")\n",
        "    op = int(input(\"Escriba la opcion:\"))\n",
        "    if op==1: \n",
        "      suma()\n",
        "    elif op==2: \n",
        "      resta()\n",
        "    elif op==3: \n",
        "      multiplicacion()\n",
        "    elif op==4: \n",
        "      division()\n",
        "    else: \n",
        "      exit()\n",
        "    \n",
        "\n",
        "\n",
        "menu()"
      ],
      "metadata": {
        "id": "aeEkJQNwIyJQ"
      },
      "execution_count": null,
      "outputs": []
    },
    {
      "cell_type": "code",
      "source": [
        "def multiple(numero):\n",
        "  if numero % 5 == 0:\n",
        "    return True\n",
        "\n",
        "numeros = [2, 5, 10, 23, 50, 30, 33,35]\n",
        "\n",
        "filter(multiple, numeros)"
      ],
      "metadata": {
        "id": "Af0WZHZ5H6o-"
      },
      "execution_count": null,
      "outputs": []
    },
    {
      "cell_type": "code",
      "source": [
        "list(filter(multiple, numeros))"
      ],
      "metadata": {
        "id": "knGvtF3ZH8z6"
      },
      "execution_count": null,
      "outputs": []
    },
    {
      "cell_type": "code",
      "source": [
        "def doble(numero):\n",
        "    return numero*2\n",
        "\n",
        "numeros = [2, 5, 10, 23, 50, 33]\n",
        "\n",
        "map(doble, numeros)"
      ],
      "metadata": {
        "id": "33tXmd18H-8a"
      },
      "execution_count": null,
      "outputs": []
    },
    {
      "cell_type": "code",
      "source": [
        "list(map(doble, numeros)) #para mostrarlo en lista "
      ],
      "metadata": {
        "id": "_F1yalleIA0K"
      },
      "execution_count": null,
      "outputs": []
    },
    {
      "cell_type": "code",
      "source": [
        "frase= 'Hola Luis, como estas?'\n",
        "def longitud_palabras(frase): \n",
        "    palabra_len = list(map(len, frase.split())) \n",
        "    return palabra_len \n",
        "\n",
        "longitud_palabras(frase) "
      ],
      "metadata": {
        "id": "7TRB0-wUIDcK"
      },
      "execution_count": null,
      "outputs": []
    },
    {
      "cell_type": "code",
      "source": [
        "from functools import reduce   #traemos el módulo para poder utiliarla\n",
        "\n",
        "def add(x, y):\n",
        "    return x + y\n",
        "\n",
        "lista = [2, 4, 7, 3]\n",
        "print(reduce(add, lista))"
      ],
      "metadata": {
        "id": "3WQZ-npKIJsC"
      },
      "execution_count": null,
      "outputs": []
    },
    {
      "cell_type": "code",
      "source": [
        "def suma(x,y):\n",
        "  return(x + y)\n",
        "\n",
        "suma(5,7)"
      ],
      "metadata": {
        "id": "Qw1PTeKGILwn"
      },
      "execution_count": null,
      "outputs": []
    },
    {
      "cell_type": "code",
      "source": [
        "lambda x,y : x+ y\n",
        "\n",
        "#Para poder utilizarla necesitamos guardarla en una variable\n",
        "suma = lambda x,y : x + y\n",
        "suma(5,7)"
      ],
      "metadata": {
        "id": "5dzYHI5mINiB"
      },
      "execution_count": null,
      "outputs": []
    },
    {
      "cell_type": "markdown",
      "source": [
        "1 - Realiza un programa que solicite dos números y una operación (suma, resta, división y multiplicación) e imprima el resultado.\n",
        "\n",
        "Además deberá mostrar un menú con las siguientes opciones:\n",
        "\n",
        "Mostrar números\n",
        "\n",
        "Sumar\n",
        "\n",
        "Restar\n",
        "\n",
        "Dividir (considerar la división entre 0)\n",
        "\n",
        "multipicar\n",
        "\n",
        "cerrar calculadora"
      ],
      "metadata": {
        "id": "jgD8UflkIuIQ"
      }
    },
    {
      "cell_type": "code",
      "source": [
        "from functools import reduce\n",
        "\n",
        "# Función para sumar todos los elementos de una lista\n",
        "def suma(a, b):\n",
        "    return a + b\n",
        "\n",
        "# Ejemplo de uso de reduce\n",
        "lista = [1, 2, 3, 4, 5]\n",
        "resultado_reduce = reduce(suma, lista)\n",
        "print(\"Resultado de reduce:\", resultado_reduce)\n",
        "\n",
        "# Función para multiplicar un número por 2\n",
        "def multiplicar_por_cinco(num):\n",
        "    return num * 5\n",
        "\n",
        "# Ejemplo de uso de map\n",
        "lista = [1, 2, 3, 4, 5]\n",
        "resultado_map = list(map(multiplicar_por_dos, lista))\n",
        "print(\"Resultado de map:\", resultado_map)\n",
        "\n",
        "# Función para verificar si un número es par\n",
        "def es_par(num):\n",
        "    return num % 2 == 0\n",
        "\n",
        "# Ejemplo de uso de filter\n",
        "lista = [1, 2, 3, 4, 5]\n",
        "resultado_filter = list(filter(es_par, lista))\n",
        "print(\"Resultado de filter:\", resultado_filter)"
      ],
      "metadata": {
        "id": "GunvSAvZKww0"
      },
      "execution_count": null,
      "outputs": []
    },
    {
      "cell_type": "code",
      "source": [
        "lista = []\n",
        "for letra in 'casa':\n",
        "  lista.append(letra)\n",
        "print(lista)"
      ],
      "metadata": {
        "id": "6YXNRbxtMGep"
      },
      "execution_count": null,
      "outputs": []
    },
    {
      "cell_type": "code",
      "source": [
        "lista = [letra for letra in 'casa']\n",
        "print(lista)"
      ],
      "metadata": {
        "id": "LZvP3HG8MIXC"
      },
      "execution_count": null,
      "outputs": []
    },
    {
      "cell_type": "code",
      "source": [
        "lista = []\n",
        "for numero in range(0,11):\n",
        "  lista.append(numero**2)\n",
        "print(lista)"
      ],
      "metadata": {
        "id": "6kU5I2H6MKEz"
      },
      "execution_count": null,
      "outputs": []
    },
    {
      "cell_type": "code",
      "source": [
        "lista = [numero**2 for numero in range(0,11)]\n",
        "\n",
        "print(lista)"
      ],
      "metadata": {
        "id": "AWeXYN-6MMKR"
      },
      "execution_count": null,
      "outputs": []
    },
    {
      "cell_type": "markdown",
      "source": [
        "Generadores\n"
      ],
      "metadata": {
        "id": "RfJ2R6xuQIgJ"
      }
    },
    {
      "cell_type": "code",
      "source": [
        "def funcion():\n",
        "    return 5"
      ],
      "metadata": {
        "id": "OBofH65nReRG"
      },
      "execution_count": 12,
      "outputs": []
    },
    {
      "cell_type": "code",
      "source": [
        "def generador():\n",
        "    yield 5"
      ],
      "metadata": {
        "id": "PEgFUsnHQKxc"
      },
      "execution_count": 13,
      "outputs": []
    },
    {
      "cell_type": "code",
      "source": [
        "print(funcion())\n",
        "print(generador())"
      ],
      "metadata": {
        "id": "eVgTUDxsRZaP",
        "outputId": "1871178d-0512-4483-ab6b-d901c881355c",
        "colab": {
          "base_uri": "https://localhost:8080/"
        }
      },
      "execution_count": 14,
      "outputs": [
        {
          "output_type": "stream",
          "name": "stdout",
          "text": [
            "5\n",
            "<generator object generador at 0x7f8d89aeaab0>\n"
          ]
        }
      ]
    },
    {
      "cell_type": "code",
      "source": [
        "a=generador()\n",
        "print(next(a))"
      ],
      "metadata": {
        "id": "WJXt08V3UnPp",
        "outputId": "8dd79739-8a45-4027-d74c-54bebdd3bbe4",
        "colab": {
          "base_uri": "https://localhost:8080/"
        }
      },
      "execution_count": 16,
      "outputs": [
        {
          "output_type": "stream",
          "name": "stdout",
          "text": [
            "5\n"
          ]
        }
      ]
    },
    {
      "cell_type": "code",
      "source": [
        "def generador():\n",
        "    n = 1\n",
        "    return n\n",
        "\n",
        "    n += 1\n",
        "    return n\n",
        "\n",
        "    n += 1\n",
        "    return n\n",
        "\n",
        "generador()\n",
        "generador()\n",
        "generador()"
      ],
      "metadata": {
        "id": "lAytmNTWWuh2"
      },
      "execution_count": null,
      "outputs": []
    },
    {
      "cell_type": "code",
      "source": [
        "def generador():\n",
        "    n = 1\n",
        "    yield n\n",
        "\n",
        "    n += 1\n",
        "    yield n\n",
        "\n",
        "    n += 1\n",
        "    yield n"
      ],
      "metadata": {
        "id": "GDrM4_JSWwvu"
      },
      "execution_count": null,
      "outputs": []
    },
    {
      "cell_type": "code",
      "source": [
        "g = generador()\n",
        "print(next(g))\n",
        "print(next(g))\n",
        "print(next(g))"
      ],
      "metadata": {
        "id": "sdE5aHNgWzXW"
      },
      "execution_count": null,
      "outputs": []
    },
    {
      "cell_type": "code",
      "source": [
        "for i in generador():\n",
        "    print(i)"
      ],
      "metadata": {
        "id": "scSoDnAmW1pl"
      },
      "execution_count": null,
      "outputs": []
    },
    {
      "cell_type": "code",
      "source": [
        "def pares(n):\n",
        "  n=10\n",
        "  for numero in range(n+1):\n",
        "    if numero % 2 == 0:\n",
        "      yield numero\n",
        "\n",
        "\n",
        "for numero in pares(10):\n",
        "    print(numero)\n"
      ],
      "metadata": {
        "id": "NY168-dDSXfs"
      },
      "execution_count": 17,
      "outputs": []
    },
    {
      "cell_type": "markdown",
      "source": [
        "decoradores"
      ],
      "metadata": {
        "id": "V7TDlitrXY2R"
      }
    },
    {
      "cell_type": "code",
      "source": [
        "\n",
        "def saludar():\n",
        "  print('hola')\n",
        "\n",
        "saludar()"
      ],
      "metadata": {
        "id": "g6No39R1Xbrp",
        "outputId": "7fc070d2-914e-43e9-b874-0045ea45a0e7",
        "colab": {
          "base_uri": "https://localhost:8080/"
        }
      },
      "execution_count": 19,
      "outputs": [
        {
          "output_type": "stream",
          "name": "stdout",
          "text": [
            "hola\n"
          ]
        }
      ]
    },
    {
      "cell_type": "code",
      "source": [
        "\n",
        "def saludar():\n",
        "  print('saludo')\n",
        "  print('hola')\n",
        "  print('despedida')\n",
        "\n",
        "saludar() "
      ],
      "metadata": {
        "id": "ESl61C3eXfPs",
        "outputId": "c5bcd255-4cb7-4dae-cef0-b2645ea6bca1",
        "colab": {
          "base_uri": "https://localhost:8080/"
        }
      },
      "execution_count": 23,
      "outputs": [
        {
          "output_type": "stream",
          "name": "stdout",
          "text": [
            "saludo\n",
            "hola\n",
            "despedida\n"
          ]
        }
      ]
    },
    {
      "cell_type": "code",
      "source": [
        "def decorador(func):\n",
        "  def saludo():\n",
        "    print('saludo')\n",
        "    func()\n",
        "    print('despedida')\n",
        "  return saludo"
      ],
      "metadata": {
        "id": "bSDpmHcsXhk8"
      },
      "execution_count": 24,
      "outputs": []
    },
    {
      "cell_type": "code",
      "source": [
        "@decorador\n",
        "def saludar():\n",
        "  print('hola')\n",
        "saludar()"
      ],
      "metadata": {
        "id": "M9c2pDs2XknE",
        "outputId": "f7931d64-f3ca-47e2-db38-56c45fa675b4",
        "colab": {
          "base_uri": "https://localhost:8080/"
        }
      },
      "execution_count": 25,
      "outputs": [
        {
          "output_type": "stream",
          "name": "stdout",
          "text": [
            "saludo\n",
            "hola\n",
            "despedida\n"
          ]
        }
      ]
    },
    {
      "cell_type": "code",
      "source": [
        "def division(a,b):\n",
        "  return a/b\n",
        "\n",
        "division(10,0)"
      ],
      "metadata": {
        "id": "0YE7XDorYyrP"
      },
      "execution_count": null,
      "outputs": []
    },
    {
      "cell_type": "code",
      "source": [
        "def revisar(func): #func es una palabra reservada que le indica pasaremos como argumento otra función\n",
        "    def validacion(a,b):  #Como vimos en Python podemos tener funciones dentro de funciones y hasta funciones como argumentos\n",
        "        if b == 0:\n",
        "          print('no es posible dividir entre 0')\n",
        "          return  #para salir de la función\n",
        "        else:\n",
        "          print(a/b)\n",
        "        func(a,b) #se ejecuta en caso contrario la función que tenemos como argumento\n",
        "    return validacion  #vuelve a ejecutar la funcion de validación pero ya con los argumentos de func"
      ],
      "metadata": {
        "id": "tuvz5HCKY1xO"
      },
      "execution_count": 32,
      "outputs": []
    },
    {
      "cell_type": "code",
      "source": [
        "\n",
        "@revisar\n",
        "def division(a,b):\n",
        "  return a/b\n",
        "\n",
        "division(10,0)"
      ],
      "metadata": {
        "id": "7I6LEHx-Y3ZC"
      },
      "execution_count": null,
      "outputs": []
    },
    {
      "cell_type": "markdown",
      "source": [
        "exepciones"
      ],
      "metadata": {
        "id": "iKum9OfSZzCG"
      }
    },
    {
      "cell_type": "code",
      "source": [
        "num1=10\n",
        "num2=0\n",
        "res= num1/num2\n",
        "res"
      ],
      "metadata": {
        "id": "U_JoNc-uZ0U9"
      },
      "execution_count": null,
      "outputs": []
    },
    {
      "cell_type": "code",
      "source": [
        "\n",
        "num1=10\n",
        "num2=0\n",
        "\n",
        "try:\n",
        "  res= num1/num2\n",
        "\n",
        "except:\n",
        "  print('no es posible dividir entre 0')"
      ],
      "metadata": {
        "id": "GI6WRWJ-Z31U"
      },
      "execution_count": null,
      "outputs": []
    },
    {
      "cell_type": "code",
      "source": [
        "\n",
        "try:\n",
        "    f = open('fichero.txt')  # El fichero no existe\n",
        "except:  #estamos estableciendo que para cualquier exepcion, podriamos ser más específicos para evitar tener confusión\n",
        "    print('¡El fichero no existe!')\n",
        "else:\n",
        "    print(f.read())"
      ],
      "metadata": {
        "id": "QpYQJrKqZ6Ts"
      },
      "execution_count": null,
      "outputs": []
    },
    {
      "cell_type": "code",
      "source": [
        "\n",
        "while True:\n",
        "   try:\n",
        "     x = int(input(\"Ingresa un número: \"))\n",
        "     break\n",
        "   except ValueError: #aquí la establecemos para que tipo de exepcion\n",
        "    print(\"Oops!  Ese no es un dato valido.  Ingresa de nuevo...\")"
      ],
      "metadata": {
        "id": "d9YtxaeOaCkU"
      },
      "execution_count": null,
      "outputs": []
    },
    {
      "cell_type": "markdown",
      "source": [
        "os principales excepciones definidas en Python son:\n",
        "\n",
        "TypeError : Ocurre cuando se aplica una operación o función a un dato del tipo inapropiado.\n",
        "\n",
        "ZeroDivisionError : Ocurre cuando se itenta dividir por cero.\n",
        "\n",
        "OverflowError : Ocurre cuando un cálculo excede el límite para un tipo de dato numérico.\n",
        "\n",
        "IndexError : Ocurre cuando se intenta acceder a una secuencia con un índice que no existe.\n",
        "\n",
        "KeyError : Ocurre cuando se intenta acceder a un diccionario con una clave que no existe.\n",
        "\n",
        "FileNotFoundError : Ocurre cuando se intenta acceder a un fichero que no existe en la ruta indicada.\n",
        "\n",
        "ImportError : Ocurre cuando falla la importación de un módulo."
      ],
      "metadata": {
        "id": "JUfBdhQwaI1R"
      }
    },
    {
      "cell_type": "markdown",
      "source": [
        "ejercicio\n",
        "Crea una exepción para cuando se solicite la consulta de un elemento que no este en la lista [1, 2, 3, 4, 5]"
      ],
      "metadata": {
        "id": "NDnDetn_bG-i"
      }
    }
  ]
}