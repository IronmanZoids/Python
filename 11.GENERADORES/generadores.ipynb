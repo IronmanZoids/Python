{
  "nbformat": 4,
  "nbformat_minor": 0,
  "metadata": {
    "colab": {
      "name": "GENERADORES.ipynb",
      "provenance": [],
      "authorship_tag": "ABX9TyPR+t2LyjTYDVSgRTmEcYGt",
      "include_colab_link": true
    },
    "kernelspec": {
      "name": "python3",
      "display_name": "Python 3"
    },
    "language_info": {
      "name": "python"
    }
  },
  "cells": [
    {
      "cell_type": "markdown",
      "metadata": {
        "id": "view-in-github",
        "colab_type": "text"
      },
      "source": [
        "<a href=\"https://colab.research.google.com/github/escuelaDeCodigoMargaritaMaza/Python/blob/main/11.GENERADORES/generadores.ipynb\" target=\"_parent\"><img src=\"https://colab.research.google.com/assets/colab-badge.svg\" alt=\"Open In Colab\"/></a>"
      ]
    },
    {
      "cell_type": "markdown",
      "source": [
        "#Generadores\n",
        "Un generador es una función que produce una secuencia de resultados en lugar de un único valor. Es decir, cada vez que llamemos a la función nos darán un nuevo resultado. Para construir generadores sólo tenemos que usar la orden yield. Esta orden devolverá un valor igual que hace return pero, además, pasará la ejecución de la función hasta la próxima vez que le pidamos un valor."
      ],
      "metadata": {
        "id": "ciyihGkC-tvz"
      }
    },
    {
      "cell_type": "markdown",
      "source": [
        "Queremos calcular los cuadrados de una lista de números que se pasan como parámetro. Una solución podría ser la siguiente:"
      ],
      "metadata": {
        "id": "m999nIKL-0UY"
      }
    },
    {
      "cell_type": "code",
      "source": [
        "def funcion():\n",
        "    return 5"
      ],
      "metadata": {
        "id": "bFMISayeUQiB"
      },
      "execution_count": 1,
      "outputs": []
    },
    {
      "cell_type": "code",
      "source": [
        "def generador():\n",
        "    yield 5"
      ],
      "metadata": {
        "id": "tF241yvuUTgJ"
      },
      "execution_count": 2,
      "outputs": []
    },
    {
      "cell_type": "code",
      "source": [
        "print(funcion())\n",
        "print(generador())"
      ],
      "metadata": {
        "id": "jzshQ21hUVE6",
        "outputId": "9dc52e05-876f-4059-9dfc-4e0faf2a9f98",
        "colab": {
          "base_uri": "https://localhost:8080/"
        }
      },
      "execution_count": 3,
      "outputs": [
        {
          "output_type": "stream",
          "name": "stdout",
          "text": [
            "5\n",
            "<generator object generador at 0x7fddfe911c40>\n"
          ]
        }
      ]
    },
    {
      "cell_type": "code",
      "source": [
        "a=generador()\n",
        "print(next(a))\n",
        "# Salida: 5"
      ],
      "metadata": {
        "id": "rS3i_uF8UoMJ",
        "outputId": "391296ce-f871-4b2a-ea6a-a39b820c22cd",
        "colab": {
          "base_uri": "https://localhost:8080/"
        }
      },
      "execution_count": 4,
      "outputs": [
        {
          "output_type": "stream",
          "name": "stdout",
          "text": [
            "5\n"
          ]
        }
      ]
    },
    {
      "cell_type": "markdown",
      "source": [
        "Vamos a ver otro ejemplo más completo donde tengamos un generador que genere varios valores. En la siguiente función podemos ver como tenemos una variable n que incrementada en 1, y después retorna con yield. Lo que pasará aquí, es que el generador generará un total de tres valores."
      ],
      "metadata": {
        "id": "XAZrpQ9gUYzp"
      }
    },
    {
      "cell_type": "code",
      "source": [
        "def generador():\n",
        "    n = 1\n",
        "    return n\n",
        "\n",
        "    n += 1\n",
        "    return n\n",
        "\n",
        "    n += 1\n",
        "    return n\n",
        "\n",
        "generador()\n",
        "generador()\n",
        "generador()"
      ],
      "metadata": {
        "id": "t0PA2vlBUbvp",
        "outputId": "c2413b8c-97a1-4168-963b-19849535adea",
        "colab": {
          "base_uri": "https://localhost:8080/"
        }
      },
      "execution_count": 8,
      "outputs": [
        {
          "output_type": "execute_result",
          "data": {
            "text/plain": [
              "1"
            ]
          },
          "metadata": {},
          "execution_count": 8
        }
      ]
    },
    {
      "cell_type": "code",
      "source": [
        "\n",
        "\n",
        "def generador():\n",
        "    n = 1\n",
        "    yield n\n",
        "\n",
        "    n += 1\n",
        "    yield n\n",
        "\n",
        "    n += 1\n",
        "    yield n"
      ],
      "metadata": {
        "id": "nogH-ghgV5um"
      },
      "execution_count": 11,
      "outputs": []
    },
    {
      "cell_type": "code",
      "source": [
        "g = generador()\n",
        "print(next(g))\n",
        "print(next(g))\n",
        "print(next(g))"
      ],
      "metadata": {
        "id": "VhhF_-QqUyRQ",
        "outputId": "0b17df04-1dcd-443c-ad4d-3cd86f107897",
        "colab": {
          "base_uri": "https://localhost:8080/"
        }
      },
      "execution_count": 12,
      "outputs": [
        {
          "output_type": "stream",
          "name": "stdout",
          "text": [
            "1\n",
            "2\n",
            "3\n"
          ]
        }
      ]
    },
    {
      "cell_type": "markdown",
      "source": [
        "otra forma es con un for"
      ],
      "metadata": {
        "id": "cTKSRl_LWKQ7"
      }
    },
    {
      "cell_type": "code",
      "source": [
        "for i in generador():\n",
        "    print(i)"
      ],
      "metadata": {
        "id": "lUQa7eXWU3Bo",
        "outputId": "b102d0c1-256c-41be-a409-3f4f74d62f57",
        "colab": {
          "base_uri": "https://localhost:8080/"
        }
      },
      "execution_count": 13,
      "outputs": [
        {
          "output_type": "stream",
          "name": "stdout",
          "text": [
            "1\n",
            "2\n",
            "3\n"
          ]
        }
      ]
    },
    {
      "cell_type": "markdown",
      "source": [
        "Los generadores también pueden ser creados de una forma mucho más sencilla y en una sola línea de código. Su sintaxis es similar a las list comprehension, pero cambiando el corchete [] por paréntesis ()."
      ],
      "metadata": {
        "id": "b46U2oSwVBXp"
      }
    },
    {
      "cell_type": "markdown",
      "source": [
        "Mostrar los números pares que hay en del 0 al 10\n",
        "\n",
        "Veamos a ver cómo crear una función generadora de pares:"
      ],
      "metadata": {
        "id": "aQvfc8zI_ZFo"
      }
    },
    {
      "cell_type": "code",
      "source": [
        "def pares(n):\n",
        "  n=10\n",
        "  for numero in range(n+1):\n",
        "    if numero % 2 == 0:\n",
        "      yield numero\n",
        "\n",
        "\n",
        "for numero in pares(10):\n",
        "    print(numero)"
      ],
      "metadata": {
        "id": "7YhdEtW2_cqs"
      },
      "execution_count": null,
      "outputs": []
    },
    {
      "cell_type": "markdown",
      "source": [
        "si una función contiene al menos una sentencia yield, se convertirá en una función generadora. Una función generadora se diferencia de una función normal en que tras ejecutar el yield, la función devuelve el control a quién la llamó, pero la función es pausada y el estado (valor de las variables) es guardado. Esto permite que su ejecución pueda ser reanudada más adelante."
      ],
      "metadata": {
        "id": "r7DcMFAE_v27"
      }
    }
  ]
}